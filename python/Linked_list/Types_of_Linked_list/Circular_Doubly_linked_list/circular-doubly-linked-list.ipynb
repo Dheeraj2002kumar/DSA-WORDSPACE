{
 "cells": [
  {
   "cell_type": "code",
   "execution_count": 5,
   "metadata": {},
   "outputs": [
    {
     "name": "stdout",
     "output_type": "stream",
     "text": [
      "5 ⇄ 10 ⇄ 20 ⇄ (HEAD)\n"
     ]
    }
   ],
   "source": [
    "# Circular Doubly Linked List\n",
    "\n",
    "class Node:\n",
    "    def __init__(self, data):\n",
    "        self.data = data\n",
    "        self.next = None\n",
    "        self.prev = None\n",
    "\n",
    "class CircularDoublyLinkedList:\n",
    "    def __init__(self):\n",
    "        self.head = None\n",
    "        self.tail = None\n",
    "\n",
    "    def insert_at_beginning(self, data):\n",
    "        new_node = Node(data)\n",
    "        if self.head is None:\n",
    "            self.head = self.tail = new_node\n",
    "            self.head.next = self.head\n",
    "            self.head.prev = self.head\n",
    "        else:\n",
    "            new_node.next = self.head\n",
    "            new_node.prev = self.tail\n",
    "            self.head.prev = new_node\n",
    "            self.tail.next = new_node\n",
    "            self.head = new_node\n",
    "\n",
    "    def insert_at_end(self, data):\n",
    "        new_node = Node(data)\n",
    "        if self.head is None:\n",
    "            self.head = self.tail = new_node\n",
    "            self.head.next = self.head\n",
    "            self.head.prev = self.head\n",
    "        else:\n",
    "            new_node.prev = self.tail\n",
    "            new_node.next = self.head\n",
    "            self.tail.next = new_node\n",
    "            self.head.prev = new_node\n",
    "            self.tail = new_node\n",
    "        \n",
    "    def delete_node(self, value):\n",
    "        while True:\n",
    "            if current.data == value:\n",
    "                if current == self.head:\n",
    "                    self.head = self.head.next\n",
    "                    self.tail.next = self.head\n",
    "                    self.head.prev = self.tail\n",
    "\n",
    "                elif current == self.tail:\n",
    "                    self.tail = self.tail.prev\n",
    "                    self.tail.next = self.head\n",
    "                    self.head.prev = self.tail\n",
    "\n",
    "                else:\n",
    "                    current.prev.next = current.next\n",
    "                    current.next.prev = current.prev\n",
    "                return\n",
    "            current = current.next\n",
    "            if current == self.head:\n",
    "                break\n",
    "\n",
    "    def search(self, value):\n",
    "        if self.head is None:\n",
    "            return False\n",
    "\n",
    "        current = self.head\n",
    "        while True:\n",
    "            if current.data == value:\n",
    "                return True\n",
    "            current = current.next \n",
    "            if current == self.head:\n",
    "                break\n",
    "\n",
    "        return False\n",
    "\n",
    "    def print_list(self):\n",
    "        if self.head is None:\n",
    "            print(\"List is Empty\")\n",
    "            return \n",
    "\n",
    "        current = self.head\n",
    "        result = \"\"\n",
    "        while True:\n",
    "            result += str(current.data) + \" ⇄ \"\n",
    "            current = current.next\n",
    "            if current == self.head:\n",
    "                break\n",
    "\n",
    "        print(result + \"(HEAD)\")\n",
    "\n",
    "cdll = CircularDoublyLinkedList()\n",
    "cdll.insert_at_end(10)\n",
    "cdll.insert_at_end(20)\n",
    "cdll.insert_at_beginning(5)\n",
    "cdll.print_list()"
   ]
  },
  {
   "attachments": {
    "image.png": {
     "image/png": "[encoded data removed]"
    }
   },
   "cell_type": "markdown",
   "metadata": {},
   "source": [
    "![image.png](attachment:image.png)"
   ]
  },
  {
   "cell_type": "markdown",
   "metadata": {},
   "source": [
    "### A basic circular doubly linked list"
   ]
  },
  {
   "cell_type": "code",
   "execution_count": 6,
   "metadata": {},
   "outputs": [
    {
     "name": "stdout",
     "output_type": "stream",
     "text": [
      "\n",
      "Traversing forward:\n",
      "3 -> 5 -> 13 -> 2 -> ...\n",
      "\n",
      "Traversing backward:\n",
      "2 -> 13 -> 5 -> 3 -> ...\n"
     ]
    }
   ],
   "source": [
    "class Node:\n",
    "    def __init__(self, data):\n",
    "        self.data = data\n",
    "        self.next = None\n",
    "        self.prev = None\n",
    "\n",
    "node1 = Node(3)\n",
    "node2 = Node(5)\n",
    "node3 = Node(13)\n",
    "node4 = Node(2)\n",
    "\n",
    "node1.next = node2\n",
    "node1.prev = node4\n",
    "\n",
    "node2.prev = node1\n",
    "node2.next = node3\n",
    "\n",
    "node3.prev = node2\n",
    "node3.next = node4\n",
    "\n",
    "node4.prev = node3\n",
    "node4.next = node1\n",
    "\n",
    "print(\"\\nTraversing forward:\")\n",
    "currentNode = node1\n",
    "startNode = node1\n",
    "print(currentNode.data, end=\" -> \")\n",
    "currentNode = currentNode.next\n",
    "\n",
    "while currentNode != startNode:\n",
    "    print(currentNode.data, end=\" -> \")\n",
    "    currentNode = currentNode.next\n",
    "print(\"...\")\n",
    "\n",
    "print(\"\\nTraversing backward:\")\n",
    "currentNode = node4\n",
    "startNode = node4\n",
    "print(currentNode.data, end=\" -> \")\n",
    "currentNode = currentNode.prev\n",
    "\n",
    "while currentNode != startNode:\n",
    "    print(currentNode.data, end=\" -> \")\n",
    "    currentNode = currentNode.prev\n",
    "print(\"...\")"
   ]
  },
  {
   "cell_type": "code",
   "execution_count": null,
   "metadata": {},
   "outputs": [],
   "source": []
  }
 ],
 "metadata": {
  "kernelspec": {
   "display_name": "Python 3",
   "language": "python",
   "name": "python3"
  },
  "language_info": {
   "codemirror_mode": {
    "name": "ipython",
    "version": 3
   },
   "file_extension": ".py",
   "mimetype": "text/x-python",
   "name": "python",
   "nbconvert_exporter": "python",
   "pygments_lexer": "ipython3",
   "version": "3.9.1"
  }
 },
 "nbformat": 4,
 "nbformat_minor": 2
}
