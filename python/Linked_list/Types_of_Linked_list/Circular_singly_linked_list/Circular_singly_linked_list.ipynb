{
 "cells": [
  {
   "cell_type": "code",
   "execution_count": 1,
   "metadata": {},
   "outputs": [
    {
     "name": "stdout",
     "output_type": "stream",
     "text": [
      "5 -> 10 -> 20 -> (HEAD)\n"
     ]
    }
   ],
   "source": [
    "class Node:\n",
    "    def __init__(self, data):\n",
    "        self.data = data\n",
    "        self.next = None\n",
    "\n",
    "class CircularSinglyLinkedList:\n",
    "    def __init__(self):\n",
    "        self.head = None\n",
    "        self.tail = None\n",
    "\n",
    "    def insert_at_beginning(self, data):\n",
    "        new_node = Node(data)\n",
    "        if not self.head:\n",
    "            self.head = self.tail = new_node\n",
    "            self.tail.next = self.head\n",
    "        else:\n",
    "            new_node.next = self.head\n",
    "            self.tail.next = new_node\n",
    "            self.head = new_node\n",
    "\n",
    "    def insert_at_end(self, data):\n",
    "        new_node = Node(data)\n",
    "        if not self.head:\n",
    "            self.head = self.tail = new_node\n",
    "            self.tail.next = self.head\n",
    "        else:\n",
    "            self.tail.next = new_node\n",
    "            self.tail = new_node\n",
    "            self.tail.next = self.head\n",
    "\n",
    "    def delete_node(self, value):\n",
    "        if not self.head:\n",
    "            return\n",
    "        \n",
    "        currnt = self.head\n",
    "        prev = self.tail\n",
    "\n",
    "        while currnt.data != value:\n",
    "            if currnt.next == self.head:\n",
    "                return  # Value not found\n",
    "            prev = currnt\n",
    "            currnt = currnt.next\n",
    "        \n",
    "        if currnt == self.head:\n",
    "            self.head = self.head.next\n",
    "            self.tail.next = self.head\n",
    "        elif currnt == self.tail:\n",
    "            prev.next = self.head\n",
    "            self.tail = prev\n",
    "        else:\n",
    "            prev.next = currnt.next\n",
    "\n",
    "    def search(self, value):\n",
    "        if not self.head:\n",
    "            return False\n",
    "        \n",
    "        current = self.head\n",
    "        while True:\n",
    "            if current.data == value:\n",
    "                return True\n",
    "            current = current.next\n",
    "            if current == self.head:\n",
    "                break\n",
    "\n",
    "        return False\n",
    "    \n",
    "    def print_list(self):\n",
    "        if not self.head:\n",
    "            print(\"List is empty\")\n",
    "            return\n",
    "\n",
    "        current = self.head\n",
    "        result = \"\"\n",
    "\n",
    "        while True:\n",
    "            result += str(current.data) + \" -> \"\n",
    "            current = current.next\n",
    "            if current == self.head:\n",
    "                break\n",
    "\n",
    "        print(result + \"(HEAD)\")\n",
    "\n",
    "\n",
    "csll = CircularSinglyLinkedList()\n",
    "csll.insert_at_end(10)\n",
    "csll.insert_at_end(20)\n",
    "csll.insert_at_beginning(5)\n",
    "csll.print_list()  # Output: 5 -> 10 -> 20 -> (HEAD)\n"
   ]
  },
  {
   "attachments": {
    "image.png": {
     "image/png": "[encoded data removed]"
    }
   },
   "cell_type": "markdown",
   "metadata": {},
   "source": [
    "![image.png](attachment:image.png)"
   ]
  },
  {
   "cell_type": "markdown",
   "metadata": {},
   "source": [
    "### A basic circular singly linked list in python"
   ]
  },
  {
   "cell_type": "code",
   "execution_count": 2,
   "metadata": {},
   "outputs": [
    {
     "name": "stdout",
     "output_type": "stream",
     "text": [
      "3 -> 5 -> 13 -> 2 -> ...\n"
     ]
    }
   ],
   "source": [
    "class Node:\n",
    "    def __init__(self, data):\n",
    "        self.data = data\n",
    "        self.next = None\n",
    "\n",
    "node1 = Node(3)\n",
    "node2 = Node(5)\n",
    "node3 = Node(13)\n",
    "node4 = Node(2)\n",
    "\n",
    "node1.next = node2\n",
    "node2.next = node3\n",
    "node3.next = node4\n",
    "node4.next = node1\n",
    "\n",
    "currentNode = node1\n",
    "startNode = node1\n",
    "print(currentNode.data, end=\" -> \")\n",
    "currentNode = currentNode.next\n",
    "\n",
    "while currentNode != startNode:\n",
    "    print(currentNode.data, end=\" -> \")\n",
    "    currentNode = currentNode.next\n",
    "\n",
    "print(\"...\")\n"
   ]
  },
  {
   "cell_type": "code",
   "execution_count": null,
   "metadata": {},
   "outputs": [],
   "source": []
  }
 ],
 "metadata": {
  "kernelspec": {
   "display_name": "Python 3",
   "language": "python",
   "name": "python3"
  },
  "language_info": {
   "codemirror_mode": {
    "name": "ipython",
    "version": 3
   },
   "file_extension": ".py",
   "mimetype": "text/x-python",
   "name": "python",
   "nbconvert_exporter": "python",
   "pygments_lexer": "ipython3",
   "version": "3.13.1"
  }
 },
 "nbformat": 4,
 "nbformat_minor": 2
}
