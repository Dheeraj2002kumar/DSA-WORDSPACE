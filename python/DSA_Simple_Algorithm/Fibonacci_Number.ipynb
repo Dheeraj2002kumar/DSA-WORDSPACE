{
 "cells": [
  {
   "cell_type": "markdown",
   "metadata": {},
   "source": [
    "# Fibonacci Numbers\n",
    "The Fibonacci numbers are very useful for introducing algorithms, so before we continue, here is a short introduction to Fibonacci numbers.\n",
    "\n",
    "The Fibonacci numbers are named after a 13th century Italian mathematician known as Fibonacci.\n",
    "\n",
    "The two first Fibonacci numbers are 0 and 1, and the next Fibonacci number is always the sum of the two previous numbers, so we get 0, 1, 1, 2, 3, 5, 8, 13, 21, ..."
   ]
  },
  {
   "cell_type": "markdown",
   "metadata": {},
   "source": [
    "**How it works:**\n",
    "\n",
    "1. Start with the two first Fibonacci numbers 0 and 1.\n",
    "    - Add the two previous numbers together to create a new Fibonacci number.\n",
    "    - Update the value of the two previous numbers.\n",
    "2. Do point a and b above 18 times."
   ]
  },
  {
   "cell_type": "markdown",
   "metadata": {},
   "source": [
    "# 1. Implementation Using a For Loop\n",
    "It can be a good idea to list what the code must contain or do before programming it:\n",
    "\n",
    "    - Two variables to hold the previous two Fibonacci numbers\n",
    "    - A for loop that runs 18 times\n",
    "    - Create new Fibonacci numbers by adding the two previous ones\n",
    "    - Print the new Fibonacci number\n",
    "    - Update the variables that hold the previous two fibonacci numbers\n",
    "Using the list above, it is easier to write the program:"
   ]
  },
  {
   "cell_type": "code",
   "execution_count": 1,
   "metadata": {},
   "outputs": [
    {
     "name": "stdout",
     "output_type": "stream",
     "text": [
      "0\n",
      "1\n",
      "1\n",
      "2\n",
      "3\n",
      "5\n",
      "8\n",
      "13\n",
      "21\n",
      "34\n",
      "55\n",
      "89\n",
      "144\n",
      "233\n",
      "377\n",
      "610\n",
      "987\n",
      "1597\n",
      "2584\n",
      "4181\n"
     ]
    }
   ],
   "source": [
    "prev2 = 0\n",
    "prev1 = 1\n",
    "\n",
    "print(prev2)\n",
    "print(prev1)\n",
    "\n",
    "for fibo in range(18):\n",
    "    newFibo = prev1 + prev2\n",
    "    print(newFibo)\n",
    "    prev2 = prev1\n",
    "    prev1 = newFibo\n"
   ]
  },
  {
   "cell_type": "markdown",
   "metadata": {},
   "source": []
  }
 ],
 "metadata": {
  "kernelspec": {
   "display_name": "Python 3",
   "language": "python",
   "name": "python3"
  },
  "language_info": {
   "codemirror_mode": {
    "name": "ipython",
    "version": 3
   },
   "file_extension": ".py",
   "mimetype": "text/x-python",
   "name": "python",
   "nbconvert_exporter": "python",
   "pygments_lexer": "ipython3",
   "version": "3.13.0"
  }
 },
 "nbformat": 4,
 "nbformat_minor": 2
}
