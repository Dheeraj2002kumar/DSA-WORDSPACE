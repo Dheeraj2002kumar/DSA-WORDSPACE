{
 "cells": [
  {
   "cell_type": "markdown",
   "metadata": {},
   "source": [
    "Given a number n, check whether it is even or odd. Return true for even and false for odd.\n",
    "\n",
    "Examples: \n",
    "\n",
    "Input: 2 \n",
    "Output: true\n",
    "\n",
    "\n",
    "Input: 5\n",
    "Output: false"
   ]
  },
  {
   "cell_type": "code",
   "execution_count": 3,
   "metadata": {},
   "outputs": [
    {
     "name": "stdout",
     "output_type": "stream",
     "text": [
      "false\n"
     ]
    }
   ],
   "source": [
    "def isEven(n):\n",
    "    return (n % 2 == 0)\n",
    "\n",
    "if __name__ == \"__main__\":\n",
    "    n = 101\n",
    "    if isEven(n):\n",
    "        print(\"true\")\n",
    "    else:\n",
    "        print(\"false\")\n"
   ]
  },
  {
   "cell_type": "markdown",
   "metadata": {},
   "source": [
    "Given a number n, we need to print its table. \n",
    "\n",
    "Examples : \n",
    "\n",
    "Input:  5\n",
    "```\n",
    "Output: \n",
    "5 * 1 = 5\n",
    "5 * 2 = 10\n",
    "5 * 3 = 15\n",
    "5 * 4 = 20\n",
    "5 * 5 = 25\n",
    "5 * 6 = 30\n",
    "5 * 7 = 35\n",
    "5 * 8 = 40\n",
    "5 * 9 = 45\n",
    "5 * 10 = 50\n",
    "```"
   ]
  },
  {
   "cell_type": "code",
   "execution_count": 4,
   "metadata": {},
   "outputs": [
    {
     "name": "stdout",
     "output_type": "stream",
     "text": [
      "5 * 1 = 5\n",
      "5 * 2 = 10\n",
      "5 * 3 = 15\n",
      "5 * 4 = 20\n",
      "5 * 5 = 25\n",
      "5 * 6 = 30\n",
      "5 * 7 = 35\n",
      "5 * 8 = 40\n",
      "5 * 9 = 45\n",
      "5 * 10 = 50\n"
     ]
    }
   ],
   "source": [
    "def printTable(n):\n",
    "    for i in range(1, 11):\n",
    "        print(f\"{n} * {i} = {n*i}\")\n",
    "    \n",
    "if __name__ == \"__main__\":\n",
    "    n = 5\n",
    "    printTable(n)\n"
   ]
  },
  {
   "cell_type": "code",
   "execution_count": null,
   "metadata": {},
   "outputs": [],
   "source": []
  }
 ],
 "metadata": {
  "kernelspec": {
   "display_name": "Python 3",
   "language": "python",
   "name": "python3"
  },
  "language_info": {
   "codemirror_mode": {
    "name": "ipython",
    "version": 3
   },
   "file_extension": ".py",
   "mimetype": "text/x-python",
   "name": "python",
   "nbconvert_exporter": "python",
   "pygments_lexer": "ipython3",
   "version": "3.13.0"
  }
 },
 "nbformat": 4,
 "nbformat_minor": 2
}
