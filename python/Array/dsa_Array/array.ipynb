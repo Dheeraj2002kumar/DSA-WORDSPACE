{
 "cells": [
  {
   "cell_type": "markdown",
   "metadata": {},
   "source": [
    "# Algorithm: Find The Lowest Value in an Array\n",
    "Let's create our first algorithm using the array data structure.\n",
    "\n",
    "Below is the algorithm to find the lowest number in an array.\n",
    "\n",
    "**How it works:**\n",
    "\n",
    "1. Go through the values in the array one by one.\n",
    "2. Check if the current value is the lowest so far, and if it is, store it.\n",
    "3. After looking at all the values, the stored value will be the lowest of all values in the array."
   ]
  },
  {
   "cell_type": "markdown",
   "metadata": {},
   "source": [
    "# Implementation\n",
    "Before implementing the algorithm using an actual programming language, it is usually smart to first write the algorithm as a step-by-step procedure.\n",
    "\n",
    "If you can write down the algorithm in something between human language and programming language, the algorithm will be easier to implement later because we avoid drowning in all the details of the programming language syntax.\n",
    "\n",
    "1. Create a variable 'minVal' and set it equal to the first value of the array.\n",
    "2. Go through every element in the array.\n",
    "3. If the current element has a lower value than 'minVal', update 'minVal' to this value.\n",
    "4. After looking at all the elements in the array, the 'minVal' variable now contains the lowest value.\n",
    "\n",
    "You can also write the algorithm in a way that looks more like a programming language if you want to, like this:\n",
    "\n",
    "```\n",
    "Variable 'minVal' = array[0]\n",
    "For each element in the array\n",
    "    If current element < minVal\n",
    "        minVal = current element\n",
    "\n",
    "```"
   ]
  },
  {
   "cell_type": "code",
   "execution_count": 1,
   "metadata": {},
   "outputs": [
    {
     "name": "stdout",
     "output_type": "stream",
     "text": [
      "Lowest value:  7\n"
     ]
    }
   ],
   "source": [
    "my_array = [7, 12, 9, 11]\n",
    "minVal = my_array[0]   # step 1\n",
    "\n",
    "for i in my_array:   # step 2\n",
    "    if i < minVal:      # step 3\n",
    "        minVal = i\n",
    "\n",
    "print('Lowest value: ', minVal)  # step 4\n"
   ]
  },
  {
   "cell_type": "markdown",
   "metadata": {},
   "source": [
    "# Bubble Sort Implementation\n",
    "To implement the Bubble Sort algorithm in a programming language, we need:\n",
    "\n",
    "1. An array with values to sort.\n",
    "2. An inner loop that goes through the array and swaps values if the first value is higher than the next value. This loop must loop through one less value each time it runs.\n",
    "3. An outer loop that controls how many times the inner loop must run. For an array with n values, this outer loop must run n-1 times.\n",
    "\n",
    "The resulting code looks like this:"
   ]
  },
  {
   "cell_type": "code",
   "execution_count": 3,
   "metadata": {},
   "outputs": [
    {
     "name": "stdout",
     "output_type": "stream",
     "text": [
      "[63, 34, 25, 12, 22, 11, 90, 5]\n",
      "sorted array:  5 11 12 22 25 34 63 90\n"
     ]
    }
   ],
   "source": [
    "my_array = [63, 34, 25, 12, 22, 11, 90, 5]\n",
    "print(my_array)\n",
    "\n",
    "n = len(my_array)\n",
    "for i in range(n-1):\n",
    "    for j in range(n-i-1):\n",
    "        if my_array[j] > my_array[j+1]:\n",
    "            my_array[j], my_array[j+1] = my_array[j+1] , my_array[j]\n",
    "            \n",
    "\n",
    "print(\"sorted array: \", *my_array)\n"
   ]
  },
  {
   "cell_type": "markdown",
   "metadata": {},
   "source": [
    "# Bubble Sort Improvement\n",
    "The Bubble Sort algorithm can be improved a little bit more.\n",
    "\n",
    "Imagine that the array is almost sorted already, with the lowest numbers at the start, like this for example:\n",
    "\n",
    "my_array = [7, 3, 9, 12, 11]\n",
    "\n",
    "In this case, the array will be sorted after the first run, but the Bubble Sort algorithm will continue to run, without swapping elements, and that is not necessary.\n",
    "\n",
    "If the algorithm goes through the array one time without swapping any values, the array must be finished sorted, and we can stop the algorithm, like this:"
   ]
  },
  {
   "cell_type": "code",
   "execution_count": 4,
   "metadata": {},
   "outputs": [
    {
     "name": "stdout",
     "output_type": "stream",
     "text": [
      "Sorted array: [3, 7, 9, 11, 12]\n"
     ]
    }
   ],
   "source": [
    "my_array = [7, 3, 9, 12, 11]\n",
    "\n",
    "n = len(my_array)\n",
    "for i in range(n-1):\n",
    "    swapped = False\n",
    "    for j in range(n-i-1):\n",
    "        if my_array[j] > my_array[j+1]:\n",
    "            my_array[j], my_array[j+1] = my_array[j+1], my_array[j]\n",
    "            swapped = True\n",
    "    if not swapped:\n",
    "        break\n",
    "\n",
    "print(\"Sorted array:\", my_array)\n"
   ]
  },
  {
   "cell_type": "markdown",
   "metadata": {},
   "source": []
  }
 ],
 "metadata": {
  "kernelspec": {
   "display_name": "Python 3",
   "language": "python",
   "name": "python3"
  },
  "language_info": {
   "codemirror_mode": {
    "name": "ipython",
    "version": 3
   },
   "file_extension": ".py",
   "mimetype": "text/x-python",
   "name": "python",
   "nbconvert_exporter": "python",
   "pygments_lexer": "ipython3",
   "version": "3.13.0"
  }
 },
 "nbformat": 4,
 "nbformat_minor": 2
}
